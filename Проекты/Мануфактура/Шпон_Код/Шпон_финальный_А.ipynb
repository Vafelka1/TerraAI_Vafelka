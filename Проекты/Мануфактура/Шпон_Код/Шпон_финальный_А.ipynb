{
  "nbformat": 4,
  "nbformat_minor": 0,
  "metadata": {
    "colab": {
      "provenance": []
    },
    "kernelspec": {
      "name": "python3",
      "display_name": "Python 3"
    },
    "language_info": {
      "name": "python"
    },
    "accelerator": "GPU",
    "gpuClass": "premium"
  },
  "cells": [
    {
      "cell_type": "markdown",
      "source": [
        "#Главня функция - predict_class, в ее теле вызываются все остальные функции.\n",
        "#Изображение загружается как image объект из библиотеки Pillow\n",
        "#На вход в обе сети подаются картинки переведенные в numpy массив  \n",
        "#Размерность входного слоя сети классификации 224/224, сети обрезки 480/480, так что делать фото в качестве full hd и выше смысла нет \n"
      ],
      "metadata": {
        "id": "DGCJm3lXFW1S"
      }
    },
    {
      "cell_type": "code",
      "source": [
        "/# Скачиваем модели\n",
        "!gdown -q https://drive.google.com/u/0/uc?id=1QqiDCHtJhD2IyxDUpiTHQ2WeYU6WPU62&export=download\n",
        "!gdown -q https://drive.google.com/u/0/uc?id=182SNXAM6TvNZweuZV8ahtoZ8NJsnE8ru&export=download"
      ],
      "metadata": {
        "id": "-fQ8wfNExwEg"
      },
      "execution_count": null,
      "outputs": []
    },
    {
      "cell_type": "code",
      "source": [
        "import tensorflow as tf\n",
        "from tensorflow import keras\n",
        "from keras.models import load_model\n",
        "import os\n",
        "import numpy as np\n",
        "from PIL import Image"
      ],
      "metadata": {
        "id": "M3cxgapD8NWC"
      },
      "execution_count": null,
      "outputs": []
    },
    {
      "cell_type": "code",
      "source": [
        "CROP_MODEL=load_model('Сrop_model.h5') #Путь к кроп модели\n",
        "CLASS_MODEL=load_model('Class_model.h5') #Путь к классификац модели"
      ],
      "metadata": {
        "id": "8sx8N9nW1rRR"
      },
      "execution_count": null,
      "outputs": []
    },
    {
      "cell_type": "code",
      "source": [
        "classes = {0: 'Осина внутренний',\n",
        "           1: 'Внутренний',\n",
        "           2: 'Береза поперечный',\n",
        "           3: 'Сорт 4',\n",
        "           4: 'Сорт 1',\n",
        "           5: 'Сорт 2',\n",
        "           6: 'Починка'            \n",
        "           }"
      ],
      "metadata": {
        "id": "oH7IS2-CaEGm"
      },
      "execution_count": null,
      "outputs": []
    },
    {
      "cell_type": "code",
      "source": [
        "def load_image(path,target_size=(480,480)):\n",
        "  image = Image.open(path)\n",
        "  image = image.resize(target_size)\n",
        "  return image"
      ],
      "metadata": {
        "id": "vf4Yyo-B9cHk"
      },
      "execution_count": null,
      "outputs": []
    },
    {
      "cell_type": "code",
      "source": [
        "def crop_function(img,initial_size,final_size):\n",
        "  \"\"\"\n",
        "  Функция обрезки фотографии.\n",
        "  Т.к большу́ю часть фото занимает пол, это может влиять на точность классификации\n",
        "  Функция берет на вход сырое фото и обрезает лишние пиксели по краям.\n",
        "\n",
        "  \"\"\"\n",
        "  size_scale=initial_size[0]\n",
        "  img_np = np.array(img)/255\n",
        "  pred = CROP_MODEL.predict(tf.expand_dims(img_np, axis=0),verbose=0)[0]\n",
        "  box = pred*initial_size[0]\n",
        "  box = box.astype('int32') \n",
        "  xmin, ymin, xmax, ymax = box[0], box[1], box[2], box[3]\n",
        "  cr_img = img.crop((xmin,ymin,xmax,ymax))\n",
        "  cr_img = cr_img.resize(final_size)\n",
        "  return cr_img  "
      ],
      "metadata": {
        "id": "5i43Z1V4n45q"
      },
      "execution_count": null,
      "outputs": []
    },
    {
      "cell_type": "code",
      "source": [
        "def softmax(x):\n",
        "    e_x = np.exp(x - np.max(x))\n",
        "    return e_x / e_x.sum()"
      ],
      "metadata": {
        "id": "lkomF5M2ccb9"
      },
      "execution_count": null,
      "outputs": []
    },
    {
      "cell_type": "code",
      "source": [
        "def predict_class(img_path):\n",
        "  \"\"\"\n",
        "  Функция предсказания. \n",
        "  На вход берет путь к фотографии, обрезает ее и делает предсказание\n",
        "  На выходе выдает предсказанный класс и вероятность \n",
        "  \"\"\"\n",
        "\n",
        "  img = load_image(img_path,target_size=(480,480)) #Загружаем фото\n",
        "  cr_image = np.array(crop_function(img,initial_size=(480,480),final_size=(224,224))) # Обрезаем края\n",
        "  class_pred = CLASS_MODEL.predict(tf.expand_dims(cr_image, axis=0),verbose=0)[0] #Подаем обрезанное \n",
        "  answer=np.argmax(softmax(class_pred))                                           #фото в модель классификайии\n",
        "  probability=round(softmax(class_pred)[answer]*100,2)\n",
        "  answer = classes[answer]\n",
        "  return answer,probability"
      ],
      "metadata": {
        "id": "DfyxpD_La8L1"
      },
      "execution_count": null,
      "outputs": []
    },
    {
      "cell_type": "markdown",
      "source": [
        "#Если вывод картинки не нужен, следующую ячейку можно удалить"
      ],
      "metadata": {
        "id": "iTyj-6tuFC8n"
      }
    },
    {
      "cell_type": "code",
      "source": [
        "import matplotlib.pyplot as plt\n",
        "img='/content/123-1168_jpg.rf.2882f74b2ee30603cf7213d52c65b79a.jpg'\n",
        "\n",
        "def print_result(img_path):\n",
        "  answer,prob = predict_class(img_path)\n",
        "  print(f'{answer} // {prob}%')\n",
        "  img = np.array(load_image(img_path))\n",
        "  plt.imshow(img)\n",
        "  plt.show()\n",
        "\n",
        "print_result(img)"
      ],
      "metadata": {
        "id": "FC0twqXAy9cF"
      },
      "execution_count": null,
      "outputs": []
    }
  ]
}